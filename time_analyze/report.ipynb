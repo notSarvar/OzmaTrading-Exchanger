{
 "cells": [
  {
   "cell_type": "markdown",
   "metadata": {},
   "source": [
    "Для начала собираем проект и запускаем его для сбора логов о времени работы:\n",
    "\n",
    "Примечание: \n",
    "  Лог чтения с погрешность на запись логов валидаций и добавления в orderBook "
   ]
  },
  {
   "cell_type": "code",
   "execution_count": 2,
   "metadata": {},
   "outputs": [
    {
     "name": "stdout",
     "output_type": "stream",
     "text": [
      "mkdir: ../build: File exists\n"
     ]
    }
   ],
   "source": [
    "!zsh -c \"mkdir ../build && cd ../build && cmake .. && make\"\n",
    "!zsh -c \"cd ../bin && ./HWOzmaTrading 20 20 10 0 100\""
   ]
  },
  {
   "cell_type": "code",
   "execution_count": 1,
   "metadata": {},
   "outputs": [
    {
     "ename": "ModuleNotFoundError",
     "evalue": "No module named 'matplotlib'",
     "output_type": "error",
     "traceback": [
      "\u001b[0;31m---------------------------------------------------------------------------\u001b[0m",
      "\u001b[0;31mModuleNotFoundError\u001b[0m                       Traceback (most recent call last)",
      "Cell \u001b[0;32mIn[1], line 2\u001b[0m\n\u001b[1;32m      1\u001b[0m \u001b[38;5;28;01mimport\u001b[39;00m \u001b[38;5;21;01mos\u001b[39;00m\n\u001b[0;32m----> 2\u001b[0m \u001b[38;5;28;01mimport\u001b[39;00m \u001b[38;5;21;01mmatplotlib\u001b[39;00m\u001b[38;5;21;01m.\u001b[39;00m\u001b[38;5;21;01mpyplot\u001b[39;00m \u001b[38;5;28;01mas\u001b[39;00m \u001b[38;5;21;01mplt\u001b[39;00m\n\u001b[1;32m      4\u001b[0m time_log_path \u001b[38;5;241m=\u001b[39m \u001b[38;5;124m'\u001b[39m\u001b[38;5;124m../bin/TimeLog\u001b[39m\u001b[38;5;124m'\u001b[39m\n\u001b[1;32m      6\u001b[0m time_map \u001b[38;5;241m=\u001b[39m {}\n",
      "\u001b[0;31mModuleNotFoundError\u001b[0m: No module named 'matplotlib'"
     ]
    }
   ],
   "source": [
    "import os\n",
    "import matplotlib.pyplot as plt\n",
    "\n",
    "time_log_path = '../bin/TimeLog.txt'\n",
    "\n",
    "time_map = {}\n",
    "\n",
    "with open(time_log_path, 'r') as file:\n",
    "    for line in file:\n",
    "        l = line.split()\n",
    "        key = l[0].strip(':')\n",
    "        seconds = float(l[1])\n",
    "        if key in time_map:\n",
    "            time_map[key] += seconds\n",
    "        else:\n",
    "            time_map[key] = seconds\n",
    "\n",
    "for key in time_map:\n",
    "    print(f'{key}: {time_map[key]}s')\n",
    "\n",
    "dist = {}\n",
    "\n",
    "for key in time_map:\n",
    "    dist[key] = time_map[key] / 10\n",
    "    "
   ]
  },
  {
   "cell_type": "markdown",
   "metadata": {},
   "source": [
    "График распределения задержек за 10с работы программы:"
   ]
  },
  {
   "cell_type": "code",
   "execution_count": null,
   "metadata": {},
   "outputs": [],
   "source": [
    "keys = list(dist.keys())\n",
    "values = list(dist.values())\n",
    "\n",
    "plt.figure(figsize=(10, 5))\n",
    "plt.bar(keys, values, color='blue')\n",
    "plt.xlabel('Keys')\n",
    "plt.ylabel('Distribution')\n",
    "plt.title('Distribution of Time Log')\n",
    "plt.xticks(rotation=45)\n",
    "plt.yscale('log')\n",
    "plt.show()\n"
   ]
  },
  {
   "cell_type": "markdown",
   "metadata": {},
   "source": [
    "Видим что Read тратит много времени но по сути это сумма времени затраченного на валидацию и добавление + погрешность на запись и последнее операция изъятия из буффера что происходит довольно быстро как мы можем заметить на примере ExtractLog\n",
    "В цулом что-бы ускорить возможно следовало использовать корутины для матчинга и как то внедрить конкурентные хешмапы с кастомными структурами для поддержания best_bid_price и best_ask_price "
   ]
  }
 ],
 "metadata": {
  "kernelspec": {
   "display_name": "Python 3",
   "language": "python",
   "name": "python3"
  },
  "language_info": {
   "codemirror_mode": {
    "name": "ipython",
    "version": 3
   },
   "file_extension": ".py",
   "mimetype": "text/x-python",
   "name": "python",
   "nbconvert_exporter": "python",
   "pygments_lexer": "ipython3",
   "version": "3.11.9"
  }
 },
 "nbformat": 4,
 "nbformat_minor": 2
}
